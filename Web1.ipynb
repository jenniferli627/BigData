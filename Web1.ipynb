{
 "cells": [
  {
   "cell_type": "code",
   "execution_count": 6,
   "metadata": {},
   "outputs": [
    {
     "name": "stdout",
     "output_type": "stream",
     "text": [
      "How much is your original bill?115.5\n",
      "What percentage is your tip?12\n",
      "Your tip based on 12% is 13.86\n",
      "Your total bill is 129.36\n"
     ]
    }
   ],
   "source": [
    "b=float(input('How much is your original bill?'))\n",
    "p=float(input('What percentage is your tip?'))\n",
    "tp=b*p/100\n",
    "to=tp+b\n",
    "print('Your tip based on %g%% is %g'%(p,tp))\n",
    "print('Your total bill is %g'%to)"
   ]
  },
  {
   "cell_type": "code",
   "execution_count": null,
   "metadata": {},
   "outputs": [],
   "source": [
    "import numpy as np\n",
    "import pandas as pd \n",
    "import sys\n",
    "f= pd.read_table('new_purchases.txt', header=None)\n",
    "ny=list(f[f[2]=='New York'][4])\n",
    "lny=len(ny)\n",
    "sny=sum(ny)\n",
    "avny=sny/lny\n",
    "sf=list(f[f[2]=='San Francisco'][4])\n",
    "lsf=len(sf)\n",
    "ssf=sum(sf)\n",
    "avsf=ssf/lsf\n",
    "print(avny<avsf)\n",
    "with open('outputlines.txt', 'w') as g:\n",
    "    sys.stdout = g\n",
    "    print('''The average transaction amount based on %g transactions in New York is %g.\n",
    "The average transaction amount based on %g transaction in San Francisco is %g.\n",
    "%s has a higher average transaction amount than %s.''' %(lny,avny,lsf,avsf,'San Francisco','New York'))"
   ]
  },
  {
   "cell_type": "code",
   "execution_count": null,
   "metadata": {},
   "outputs": [],
   "source": []
  },
  {
   "cell_type": "code",
   "execution_count": null,
   "metadata": {},
   "outputs": [],
   "source": []
  }
 ],
 "metadata": {
  "kernelspec": {
   "display_name": "Python 3",
   "language": "python",
   "name": "python3"
  },
  "language_info": {
   "codemirror_mode": {
    "name": "ipython",
    "version": 3
   },
   "file_extension": ".py",
   "mimetype": "text/x-python",
   "name": "python",
   "nbconvert_exporter": "python",
   "pygments_lexer": "ipython3",
   "version": "3.8.3"
  }
 },
 "nbformat": 4,
 "nbformat_minor": 4
}
